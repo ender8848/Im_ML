{
 "cells": [
  {
   "cell_type": "markdown",
   "id": "8e797d12-0590-4749-8e76-a15deb07aa75",
   "metadata": {},
   "source": [
    "In this part, the decision trees are all simple, raw decision trees. They have not been improved. "
   ]
  },
  {
   "cell_type": "code",
   "execution_count": 1,
   "id": "2826e77c-a0cc-4b01-89e0-d4df1c132c8b",
   "metadata": {},
   "outputs": [],
   "source": [
    "import numpy as np\n",
    "from classification import *\n",
    "from util import Util"
   ]
  },
  {
   "cell_type": "markdown",
   "id": "5a35b699-1d6c-4a97-9e70-1221e1c1c4f8",
   "metadata": {
    "tags": []
   },
   "source": [
    "## 3.1 train and test a raw decision tree on 3 datasets and test them"
   ]
  },
  {
   "cell_type": "code",
   "execution_count": 2,
   "id": "2b57c21b-8e86-41af-83df-7bac51fa19d8",
   "metadata": {},
   "outputs": [
    {
     "name": "stdout",
     "output_type": "stream",
     "text": [
      "Loading the training dataset...\n",
      "Training the decision tree...\n",
      "accuracy:\n",
      "0.865\n",
      "confusion_matrix:\n",
      "['A' 'C' 'E' 'G' 'O' 'Q']\n",
      "[[33  0  0  1  0  0]\n",
      " [ 1 33  2  1  0  0]\n",
      " [ 0  0 24  0  1  1]\n",
      " [ 1  1  2 19  1  3]\n",
      " [ 0  2  0  1 27  4]\n",
      " [ 0  0  2  0  3 37]]\n",
      "recall:\n",
      "['A' 'C' 'E' 'G' 'O' 'Q']\n",
      "[0.97058824 0.89189189 0.92307692 0.7037037  0.79411765 0.88095238]\n",
      "average:\n",
      "0.8607217969963067\n",
      "precision:\n",
      "['A' 'C' 'E' 'G' 'O' 'Q']\n",
      "[0.94285714 0.91666667 0.8        0.86363636 0.84375    0.82222222]\n",
      "average:\n",
      "0.8648553992303992\n",
      "f1_score:\n",
      "['A' 'C' 'E' 'G' 'O' 'Q']\n",
      "['A' 'C' 'E' 'G' 'O' 'Q']\n",
      "[0.95652174 0.90410959 0.85714286 0.7755102  0.81818182 0.85057471]\n",
      "average:\n",
      "0.8603401533702528\n"
     ]
    }
   ],
   "source": [
    "DecisionTreeClassifier.depth_limit = 100;\n",
    "if __name__ == \"__main__\":\n",
    "    print(\"Loading the training dataset...\")\n",
    "    # Change the dataset name here\n",
    "    features, labels = Util.read_dataset(\"./data/train_full.txt\")\n",
    "    \n",
    "    print(\"Training the decision tree...\")\n",
    "    classifier = DecisionTreeClassifier()\n",
    "    node = classifier.fit(features, labels)\n",
    "\n",
    "    features, y_test = Util.read_dataset(\"./data/test.txt\")\n",
    "    prediction = classifier.predict(features)\n",
    "\n",
    "    print(\"accuracy:\")\n",
    "    accuracy = Evaluation.accuracy(y_test, prediction)\n",
    "    print(accuracy)\n",
    "\n",
    "    print(\"confusion_matrix:\")\n",
    "    confusion = Evaluation.confusion_matrix(y_test, prediction)\n",
    "    print(confusion)\n",
    "\n",
    "    print(\"recall:\")\n",
    "    (r, macro_r) = Evaluation.recall(y_test, prediction)\n",
    "    print(r)\n",
    "    print(\"average:\")\n",
    "    print(macro_r)\n",
    "\n",
    "    print(\"precision:\")\n",
    "    (p, macro_p) = Evaluation.precision(y_test, prediction)\n",
    "    print(p)\n",
    "    print(\"average:\")\n",
    "    print(macro_p)\n",
    "\n",
    "    print(\"f1_score:\")\n",
    "    (f1, macro_f1) = Evaluation.f1_score(y_test, prediction)\n",
    "    print(f1)\n",
    "    print(\"average:\")\n",
    "    print(macro_f1)"
   ]
  },
  {
   "cell_type": "markdown",
   "id": "c2042071-d37a-4d9a-b78e-1f95dac1173b",
   "metadata": {},
   "source": [
    "## 3.2 cross validation using the raw decision tree "
   ]
  },
  {
   "cell_type": "code",
   "execution_count": 3,
   "id": "edff03ab-77aa-4043-b817-07137f30e5d7",
   "metadata": {},
   "outputs": [
    {
     "name": "stdout",
     "output_type": "stream",
     "text": [
      "all accuracies in 10 cross validation:\n",
      "[0.92564103 0.90512821 0.92564103 0.92307692 0.94615385 0.93846154\n",
      " 0.8974359  0.93846154 0.91025641 0.92564103]\n",
      "mean: 0.92\n",
      "standard deviation: 0.01\n"
     ]
    }
   ],
   "source": [
    "features, labels = Util.read_dataset(\"./data/train_full.txt\")\n",
    "node_list, best_nodes = CrossValidation.cross_validation(features, labels, 10)"
   ]
  },
  {
   "cell_type": "markdown",
   "id": "8625df88-ea7d-4c39-a8d0-ba22a397d189",
   "metadata": {},
   "source": [
    "## 3.3 raw decision trees now vote to predict"
   ]
  },
  {
   "cell_type": "code",
   "execution_count": 4,
   "id": "b8c2b957-4212-4d32-bd4e-5f6abab6de97",
   "metadata": {},
   "outputs": [
    {
     "name": "stdout",
     "output_type": "stream",
     "text": [
      "['Q' 'O' 'O' 'O' 'O' 'Q' 'O' 'O' 'Q' 'C'] vote for:  O\n",
      "['C' 'E' 'E' 'E' 'E' 'C' 'E' 'C' 'E' 'E'] vote for:  E\n",
      "['Q' 'O' 'Q' 'Q' 'Q' 'Q' 'Q' 'Q' 'Q' 'Q'] vote for:  Q\n",
      "['E' 'G' 'G' 'G' 'G' 'G' 'G' 'G' 'G' 'G'] vote for:  G\n",
      "['G' 'G' 'E' 'G' 'G' 'G' 'Q' 'G' 'G' 'Q'] vote for:  G\n",
      "['O' 'Q' 'O' 'Q' 'Q' 'O' 'O' 'O' 'Q' 'Q'] vote for:  O\n",
      "['O' 'Q' 'O' 'Q' 'O' 'O' 'G' 'Q' 'G' 'O'] vote for:  O\n",
      "['Q' 'Q' 'Q' 'Q' 'Q' 'Q' 'G' 'Q' 'Q' 'Q'] vote for:  Q\n",
      "['E' 'E' 'E' 'E' 'E' 'G' 'E' 'E' 'E' 'E'] vote for:  E\n",
      "['Q' 'O' 'Q' 'Q' 'Q' 'Q' 'Q' 'Q' 'Q' 'Q'] vote for:  Q\n",
      "['Q' 'O' 'Q' 'Q' 'Q' 'G' 'Q' 'Q' 'Q' 'Q'] vote for:  Q\n",
      "['A' 'C' 'A' 'C' 'C' 'C' 'C' 'A' 'C' 'C'] vote for:  C\n",
      "['Q' 'Q' 'Q' 'Q' 'Q' 'Q' 'Q' 'O' 'Q' 'Q'] vote for:  Q\n",
      "['O' 'Q' 'Q' 'Q' 'O' 'O' 'O' 'G' 'Q' 'O'] vote for:  O\n",
      "['G' 'G' 'G' 'G' 'G' 'G' 'E' 'G' 'G' 'Q'] vote for:  G\n",
      "['G' 'O' 'E' 'E' 'O' 'Q' 'G' 'C' 'G' 'O'] vote for:  G\n",
      "['G' 'A' 'G' 'A' 'O' 'G' 'A' 'A' 'A' 'O'] vote for:  A\n",
      "['E' 'E' 'E' 'E' 'E' 'G' 'E' 'E' 'E' 'E'] vote for:  E\n",
      "['A' 'C' 'A' 'C' 'C' 'C' 'C' 'C' 'C' 'A'] vote for:  C\n",
      "['O' 'O' 'O' 'O' 'O' 'O' 'G' 'O' 'O' 'O'] vote for:  O\n",
      "['O' 'Q' 'G' 'Q' 'Q' 'C' 'C' 'G' 'Q' 'G'] vote for:  Q\n",
      "['C' 'C' 'C' 'C' 'G' 'C' 'C' 'G' 'C' 'C'] vote for:  C\n",
      "['Q' 'Q' 'Q' 'Q' 'Q' 'Q' 'O' 'Q' 'O' 'Q'] vote for:  Q\n",
      "['O' 'O' 'O' 'O' 'O' 'O' 'Q' 'O' 'O' 'O'] vote for:  O\n",
      "['Q' 'O' 'O' 'O' 'O' 'O' 'O' 'O' 'O' 'O'] vote for:  O\n",
      "['C' 'O' 'C' 'G' 'C' 'O' 'C' 'G' 'G' 'C'] vote for:  C\n",
      "['G' 'G' 'G' 'O' 'O' 'G' 'G' 'O' 'O' 'E'] vote for:  G\n",
      "['Q' 'E' 'Q' 'Q' 'Q' 'Q' 'G' 'Q' 'E' 'Q'] vote for:  Q\n",
      "['Q' 'Q' 'Q' 'Q' 'Q' 'Q' 'Q' 'Q' 'O' 'Q'] vote for:  Q\n",
      "['O' 'O' 'O' 'O' 'O' 'O' 'G' 'O' 'O' 'O'] vote for:  O\n",
      "['Q' 'Q' 'Q' 'O' 'Q' 'Q' 'G' 'Q' 'Q' 'Q'] vote for:  Q\n",
      "['C' 'C' 'C' 'C' 'C' 'G' 'C' 'C' 'C' 'C'] vote for:  C\n",
      "['Q' 'E' 'Q' 'Q' 'Q' 'Q' 'Q' 'Q' 'Q' 'Q'] vote for:  Q\n",
      "['Q' 'O' 'Q' 'O' 'Q' 'Q' 'Q' 'Q' 'O' 'Q'] vote for:  Q\n",
      "['O' 'Q' 'G' 'Q' 'G' 'G' 'G' 'G' 'Q' 'O'] vote for:  G\n",
      "['C' 'C' 'C' 'C' 'G' 'G' 'C' 'C' 'C' 'C'] vote for:  C\n",
      "['Q' 'Q' 'Q' 'Q' 'Q' 'Q' 'Q' 'Q' 'E' 'Q'] vote for:  Q\n",
      "['Q' 'O' 'O' 'O' 'O' 'O' 'O' 'O' 'O' 'O'] vote for:  O\n",
      "['G' 'G' 'C' 'G' 'G' 'G' 'G' 'G' 'G' 'G'] vote for:  G\n",
      "['Q' 'Q' 'Q' 'Q' 'Q' 'Q' 'O' 'Q' 'Q' 'Q'] vote for:  Q\n",
      "['A' 'A' 'A' 'A' 'Q' 'A' 'A' 'A' 'A' 'A'] vote for:  A\n",
      "['Q' 'Q' 'Q' 'Q' 'Q' 'Q' 'Q' 'E' 'Q' 'Q'] vote for:  Q\n",
      "['G' 'E' 'E' 'E' 'E' 'G' 'E' 'E' 'E' 'G'] vote for:  E\n",
      "['G' 'E' 'E' 'E' 'E' 'G' 'E' 'G' 'E' 'Q'] vote for:  E\n",
      "['G' 'G' 'E' 'G' 'G' 'G' 'G' 'G' 'G' 'Q'] vote for:  G\n",
      "['Q' 'Q' 'Q' 'Q' 'Q' 'Q' 'O' 'Q' 'Q' 'Q'] vote for:  Q\n",
      "['A' 'G' 'Q' 'G' 'A' 'Q' 'Q' 'G' 'G' 'C'] vote for:  G\n",
      "['E' 'E' 'E' 'O' 'E' 'E' 'A' 'G' 'O' 'O'] vote for:  E\n",
      "['A' 'Q' 'A' 'Q' 'A' 'Q' 'Q' 'Q' 'Q' 'A'] vote for:  Q\n",
      "['O' 'Q' 'O' 'Q' 'O' 'O' 'O' 'O' 'O' 'O'] vote for:  O\n",
      "vote accuracy of raw decision trees is 0.9000\n"
     ]
    }
   ],
   "source": [
    "accuracies = np.zeros((10, ))\n",
    "x_test, y_test = Util.read_dataset(\"./data/test.txt\")\n",
    "prediction_all = np.repeat(np.zeros_like(y_test).reshape(-1,y_test.size), 10, axis=0)\n",
    "avg_acc = 0\n",
    "\n",
    "for i in range(10):\n",
    "    prediction = DecisionTreeClassifier(node_list[i]).predict(x_test)\n",
    "    prediction_all[i,:] = prediction\n",
    "    avg_acc += Evaluation.accuracy(prediction, y_test)/10\n",
    "prediction_votes = np.zeros_like(y_test)\n",
    "\n",
    "for i in range(y_test.size):\n",
    "    votes = prediction_all[:,i]\n",
    "    unique, counts = np.unique(votes, return_counts=True)\n",
    "    prediction_votes[i] = unique[counts.argmax()]\n",
    "    # optional: print all difference\n",
    "    if (unique.size > 1):\n",
    "        print(votes, end = \" \")\n",
    "        print(\"vote for: \", prediction_votes[i])\n",
    "        \n",
    "vote_accuracy = Evaluation.accuracy(prediction_votes, y_test)\n",
    "print(f\"vote accuracy of raw decision trees is {vote_accuracy:.4f}\")"
   ]
  },
  {
   "cell_type": "code",
   "execution_count": null,
   "id": "e4483429-9ed1-481f-8e01-f038329883b9",
   "metadata": {},
   "outputs": [],
   "source": []
  }
 ],
 "metadata": {
  "kernelspec": {
   "display_name": "ml-coursework",
   "language": "python",
   "name": "ml-coursework"
  },
  "language_info": {
   "codemirror_mode": {
    "name": "ipython",
    "version": 3
   },
   "file_extension": ".py",
   "mimetype": "text/x-python",
   "name": "python",
   "nbconvert_exporter": "python",
   "pygments_lexer": "ipython3",
   "version": "3.7.2"
  }
 },
 "nbformat": 4,
 "nbformat_minor": 5
}
